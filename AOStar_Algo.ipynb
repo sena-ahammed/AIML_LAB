{
 "cells": [
  {
   "cell_type": "code",
   "execution_count": null,
   "id": "c21b8da2",
   "metadata": {},
   "outputs": [],
   "source": [
    "class graph:\n",
    "    def __init__(self.graph,heuristicnodelist,stratnode):\n",
    "        self.graph=graph\n",
    "        self.h=heuristicnodelist\n",
    "        self.start=startnode\n",
    "        self.parent={}\n",
    "        self.status={}\n",
    "        self.solutiongraph\n",
    "    def appltaostar(self):\n",
    "        self.aostar(self.start,False)\n",
    "    def getneighbour(self,v):\n",
    "        return self.graph.get(v,'')\n",
    "    def getstatus(self,v):\n",
    "        return self.status[v]val\n",
    "    def getheuristicnodevalue(self,n):\n",
    "        return self.h.get(n,0)\n",
    "    def setheuristicnodevalue(self,n,values):\n",
    "        self.h[n]=value\n",
    "    \n",
    "    def printsolution(self):\n",
    "        print(\"for graph solution traverse through the graph from the start\",self.start)\n",
    "        print(\"_________________________________________________________________________\")\n",
    "        print(self.solutiongraph)\n",
    "        print(\"_________________________________________________________________________\")\n",
    "        \n",
    "    def computeminimumcostchildnodes(self,v):\n",
    "        minimumcost=0\n",
    "        costtochildnodelistdict={}\n",
    "        costtochildnodelistdict[minimumcost]=[]\n",
    "        flag=True\n",
    "        for nodeinfotuplelist in self.getneighbopurs(v):\n",
    "            cost=0\n",
    "            nodelist=[]\n",
    "            for c,weight in nodeinfotuplelist:\n",
    "                cost=cost+self.getheuristicnodevalue(c)+weight\n",
    "                nodelist.append(c)\n",
    "                if flag==True:\n",
    "                    minimumcost=cost\n",
    "                    costtochildnodelistdict[minimumcost]=nodelist\n",
    "                    flag=False\n",
    "                else:\n",
    "                    if minimumcost>cost:\n",
    "                        minimumcost=cost\n",
    "                        costtochildnodelistdict[minimumcost]=nodelist\n",
    "        return minimumcost,costtochildnodelistdict[minimumcost]\n",
    "    "
   ]
  }
 ],
 "metadata": {
  "kernelspec": {
   "display_name": "Python 3 (ipykernel)",
   "language": "python",
   "name": "python3"
  },
  "language_info": {
   "codemirror_mode": {
    "name": "ipython",
    "version": 3
   },
   "file_extension": ".py",
   "mimetype": "text/x-python",
   "name": "python",
   "nbconvert_exporter": "python",
   "pygments_lexer": "ipython3",
   "version": "3.9.7"
  }
 },
 "nbformat": 4,
 "nbformat_minor": 5
}
